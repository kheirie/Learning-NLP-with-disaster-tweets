{
  "nbformat": 4,
  "nbformat_minor": 0,
  "metadata": {
    "accelerator": "TPU",
    "colab": {
      "name": "NLP with Disaster Tweets.ipynb",
      "provenance": [],
      "collapsed_sections": [],
      "mount_file_id": "1Vl47jT0jlTS9AdBymuPpquId9LaNjKp2",
      "authorship_tag": "ABX9TyOGnnk9icsiViJGeLLJy4Qf"
    },
    "kernelspec": {
      "display_name": "Python 3",
      "name": "python3"
    }
  },
  "cells": [
    {
      "cell_type": "code",
      "metadata": {
        "id": "wAzodkNfLaU8"
      },
      "source": [
        "%%capture\n",
        "%cd drive/MyDrive/NLP\\ with\\ Disaster\n",
        "\n",
        "!pip install sentence_transformers==0.3.7\n",
        "!pip install symspellpy"
      ],
      "execution_count": 84,
      "outputs": []
    },
    {
      "cell_type": "code",
      "metadata": {
        "id": "D4zjsPDULgMz"
      },
      "source": [
        "import os \n",
        "import zipfile \n",
        "\n",
        "local_zip = \"data.zip\"\n",
        "\n",
        "zip_ref = zipfile.ZipFile(local_zip, 'r')\n",
        "zip_ref.extractall('/tmp')\n",
        "zip_ref.close()"
      ],
      "execution_count": 85,
      "outputs": []
    },
    {
      "cell_type": "code",
      "metadata": {
        "id": "wqJTCUMsOQMy",
        "colab": {
          "base_uri": "https://localhost:8080/"
        },
        "outputId": "5b7cc7f0-8155-42c8-d2ef-f428a2f592e8"
      },
      "source": [
        "import numpy as np # linear algebra\n",
        "import pandas as pd # data processing, CSV file I/O (e.g. pd.read_csv)\n",
        "\n",
        "import spacy # library for advanced natural languages processing\n",
        "import regex as re\n",
        "from sentence_transformers import SentenceTransformer # for sentence embeddings\n",
        "from sklearn.metrics.pairwise import cosine_similarity # for keyword extraction - to calculate the similarities between keyword candidates and text\n",
        "\n",
        "import tensorflow as tf\n",
        "\n",
        "import os\n",
        "os.system('python -m spacy download en')\n",
        "\n",
        "nlp = spacy.load('en')\n",
        "\n",
        "from symspellpy import SymSpell, Verbosity\n",
        "\n",
        "sym_spell = SymSpell()\n",
        "dictionary_path = \"./frequency_dictionary_en_82_765.txt.txt\"\n",
        "sym_spell.load_dictionary(dictionary_path, 0, 1)"
      ],
      "execution_count": 86,
      "outputs": [
        {
          "output_type": "execute_result",
          "data": {
            "text/plain": [
              "True"
            ]
          },
          "metadata": {
            "tags": []
          },
          "execution_count": 86
        }
      ]
    },
    {
      "cell_type": "code",
      "metadata": {
        "id": "zPbXlItQO6S_"
      },
      "source": [
        "train = pd.read_csv(\"/tmp/train.csv\")\n",
        "test = pd.read_csv(\"/tmp/test.csv\")"
      ],
      "execution_count": 87,
      "outputs": []
    },
    {
      "cell_type": "code",
      "metadata": {
        "id": "TdjZtmVFPKDv",
        "colab": {
          "base_uri": "https://localhost:8080/"
        },
        "outputId": "18f28445-aac2-4eb1-8638-cf9b373878e0"
      },
      "source": [
        "train.info()"
      ],
      "execution_count": 88,
      "outputs": [
        {
          "output_type": "stream",
          "text": [
            "<class 'pandas.core.frame.DataFrame'>\n",
            "RangeIndex: 7613 entries, 0 to 7612\n",
            "Data columns (total 5 columns):\n",
            " #   Column    Non-Null Count  Dtype \n",
            "---  ------    --------------  ----- \n",
            " 0   id        7613 non-null   int64 \n",
            " 1   keyword   7552 non-null   object\n",
            " 2   location  5080 non-null   object\n",
            " 3   text      7613 non-null   object\n",
            " 4   target    7613 non-null   int64 \n",
            "dtypes: int64(2), object(3)\n",
            "memory usage: 297.5+ KB\n"
          ],
          "name": "stdout"
        }
      ]
    },
    {
      "cell_type": "code",
      "metadata": {
        "id": "3v5menc5PH12",
        "colab": {
          "base_uri": "https://localhost:8080/",
          "height": 204
        },
        "outputId": "62f288fa-2b5f-4964-fe24-25a03fa7929e"
      },
      "source": [
        "train.sample(5)"
      ],
      "execution_count": 89,
      "outputs": [
        {
          "output_type": "execute_result",
          "data": {
            "text/html": [
              "<div>\n",
              "<style scoped>\n",
              "    .dataframe tbody tr th:only-of-type {\n",
              "        vertical-align: middle;\n",
              "    }\n",
              "\n",
              "    .dataframe tbody tr th {\n",
              "        vertical-align: top;\n",
              "    }\n",
              "\n",
              "    .dataframe thead th {\n",
              "        text-align: right;\n",
              "    }\n",
              "</style>\n",
              "<table border=\"1\" class=\"dataframe\">\n",
              "  <thead>\n",
              "    <tr style=\"text-align: right;\">\n",
              "      <th></th>\n",
              "      <th>id</th>\n",
              "      <th>keyword</th>\n",
              "      <th>location</th>\n",
              "      <th>text</th>\n",
              "      <th>target</th>\n",
              "    </tr>\n",
              "  </thead>\n",
              "  <tbody>\n",
              "    <tr>\n",
              "      <th>84</th>\n",
              "      <td>121</td>\n",
              "      <td>accident</td>\n",
              "      <td>South Bloomfield, OH</td>\n",
              "      <td>Accident in #Ashville on US 23 SB before SR 75...</td>\n",
              "      <td>1</td>\n",
              "    </tr>\n",
              "    <tr>\n",
              "      <th>1928</th>\n",
              "      <td>2771</td>\n",
              "      <td>curfew</td>\n",
              "      <td>NaN</td>\n",
              "      <td>@aptly_engineerd There is no such curfew.</td>\n",
              "      <td>0</td>\n",
              "    </tr>\n",
              "    <tr>\n",
              "      <th>3779</th>\n",
              "      <td>5367</td>\n",
              "      <td>fire%20truck</td>\n",
              "      <td>NaN</td>\n",
              "      <td>#reno Truck trailer catches fire in Reno http:...</td>\n",
              "      <td>1</td>\n",
              "    </tr>\n",
              "    <tr>\n",
              "      <th>5512</th>\n",
              "      <td>7865</td>\n",
              "      <td>quarantined</td>\n",
              "      <td>NaN</td>\n",
              "      <td>Officials: Alabama home quarantined over possi...</td>\n",
              "      <td>1</td>\n",
              "    </tr>\n",
              "    <tr>\n",
              "      <th>3462</th>\n",
              "      <td>4953</td>\n",
              "      <td>exploded</td>\n",
              "      <td>elizabeth king</td>\n",
              "      <td>oh yeah my ipod almost exploded last night i w...</td>\n",
              "      <td>1</td>\n",
              "    </tr>\n",
              "  </tbody>\n",
              "</table>\n",
              "</div>"
            ],
            "text/plain": [
              "        id  ... target\n",
              "84     121  ...      1\n",
              "1928  2771  ...      0\n",
              "3779  5367  ...      1\n",
              "5512  7865  ...      1\n",
              "3462  4953  ...      1\n",
              "\n",
              "[5 rows x 5 columns]"
            ]
          },
          "metadata": {
            "tags": []
          },
          "execution_count": 89
        }
      ]
    },
    {
      "cell_type": "code",
      "metadata": {
        "id": "XrB0qJYQrf-p",
        "colab": {
          "base_uri": "https://localhost:8080/"
        },
        "outputId": "ef72599f-8950-4b1a-c7b5-8e03e038e37c"
      },
      "source": [
        "test.info()"
      ],
      "execution_count": 90,
      "outputs": [
        {
          "output_type": "stream",
          "text": [
            "<class 'pandas.core.frame.DataFrame'>\n",
            "RangeIndex: 3263 entries, 0 to 3262\n",
            "Data columns (total 4 columns):\n",
            " #   Column    Non-Null Count  Dtype \n",
            "---  ------    --------------  ----- \n",
            " 0   id        3263 non-null   int64 \n",
            " 1   keyword   3237 non-null   object\n",
            " 2   location  2158 non-null   object\n",
            " 3   text      3263 non-null   object\n",
            "dtypes: int64(1), object(3)\n",
            "memory usage: 102.1+ KB\n"
          ],
          "name": "stdout"
        }
      ]
    },
    {
      "cell_type": "code",
      "metadata": {
        "id": "uBjN4DLNPfh6",
        "colab": {
          "base_uri": "https://localhost:8080/",
          "height": 204
        },
        "outputId": "09ff1e41-d5dd-4585-d6aa-3147f133dd86"
      },
      "source": [
        "test.sample(5)"
      ],
      "execution_count": 91,
      "outputs": [
        {
          "output_type": "execute_result",
          "data": {
            "text/html": [
              "<div>\n",
              "<style scoped>\n",
              "    .dataframe tbody tr th:only-of-type {\n",
              "        vertical-align: middle;\n",
              "    }\n",
              "\n",
              "    .dataframe tbody tr th {\n",
              "        vertical-align: top;\n",
              "    }\n",
              "\n",
              "    .dataframe thead th {\n",
              "        text-align: right;\n",
              "    }\n",
              "</style>\n",
              "<table border=\"1\" class=\"dataframe\">\n",
              "  <thead>\n",
              "    <tr style=\"text-align: right;\">\n",
              "      <th></th>\n",
              "      <th>id</th>\n",
              "      <th>keyword</th>\n",
              "      <th>location</th>\n",
              "      <th>text</th>\n",
              "    </tr>\n",
              "  </thead>\n",
              "  <tbody>\n",
              "    <tr>\n",
              "      <th>130</th>\n",
              "      <td>414</td>\n",
              "      <td>apocalypse</td>\n",
              "      <td>Akron, Ohio</td>\n",
              "      <td>@ItsKingRiffYall I'm excited for apocalypse re...</td>\n",
              "    </tr>\n",
              "    <tr>\n",
              "      <th>1844</th>\n",
              "      <td>6229</td>\n",
              "      <td>hijacker</td>\n",
              "      <td>Fairfax, VA</td>\n",
              "      <td>Remove the http://t.co/Ytao0lT144 and Linkury ...</td>\n",
              "    </tr>\n",
              "    <tr>\n",
              "      <th>3112</th>\n",
              "      <td>10309</td>\n",
              "      <td>weapon</td>\n",
              "      <td>PNW</td>\n",
              "      <td>Slosher is a fucboi weapon</td>\n",
              "    </tr>\n",
              "    <tr>\n",
              "      <th>2348</th>\n",
              "      <td>7846</td>\n",
              "      <td>quarantined</td>\n",
              "      <td>darwins, au</td>\n",
              "      <td>Reddit's new content policy goes into effect m...</td>\n",
              "    </tr>\n",
              "    <tr>\n",
              "      <th>2309</th>\n",
              "      <td>7713</td>\n",
              "      <td>panicking</td>\n",
              "      <td>omaha neblastya</td>\n",
              "      <td>I'm panicking like crazy and I need you</td>\n",
              "    </tr>\n",
              "  </tbody>\n",
              "</table>\n",
              "</div>"
            ],
            "text/plain": [
              "         id  ...                                               text\n",
              "130     414  ...  @ItsKingRiffYall I'm excited for apocalypse re...\n",
              "1844   6229  ...  Remove the http://t.co/Ytao0lT144 and Linkury ...\n",
              "3112  10309  ...                         Slosher is a fucboi weapon\n",
              "2348   7846  ...  Reddit's new content policy goes into effect m...\n",
              "2309   7713  ...            I'm panicking like crazy and I need you\n",
              "\n",
              "[5 rows x 4 columns]"
            ]
          },
          "metadata": {
            "tags": []
          },
          "execution_count": 91
        }
      ]
    },
    {
      "cell_type": "code",
      "metadata": {
        "id": "gpX-e4YFPi5m",
        "colab": {
          "base_uri": "https://localhost:8080/"
        },
        "outputId": "2bf6f728-358c-48e7-9385-689ff1c77463"
      },
      "source": [
        "train[train['target']==1].size"
      ],
      "execution_count": 92,
      "outputs": [
        {
          "output_type": "execute_result",
          "data": {
            "text/plain": [
              "16355"
            ]
          },
          "metadata": {
            "tags": []
          },
          "execution_count": 92
        }
      ]
    },
    {
      "cell_type": "code",
      "metadata": {
        "id": "0YR-8CQyPq84",
        "colab": {
          "base_uri": "https://localhost:8080/"
        },
        "outputId": "9470f3fa-aaec-4748-cb48-0c32a9832e10"
      },
      "source": [
        "train[train['target']==0].size"
      ],
      "execution_count": 93,
      "outputs": [
        {
          "output_type": "execute_result",
          "data": {
            "text/plain": [
              "21710"
            ]
          },
          "metadata": {
            "tags": []
          },
          "execution_count": 93
        }
      ]
    },
    {
      "cell_type": "code",
      "metadata": {
        "id": "aNOQwhrmQWyZ"
      },
      "source": [
        "# convert to lower case \n",
        "train[\"keyword\"] = train[\"keyword\"].apply(lambda x: str.lower(x) if pd.isna(x) != True else x)\n",
        "train[\"location\"] = train[\"location\"].apply(lambda x: str.lower(x) if pd.isna(x) != True else x)\n",
        "train[\"text\"] = train[\"text\"].apply(lambda x: str.lower(x))\n",
        "\n",
        "test[\"keyword\"] = test[\"keyword\"].apply(lambda x: str.lower(x) if pd.isna(x) != True else x)\n",
        "test[\"location\"] = test[\"location\"].apply(lambda x: str.lower(x) if pd.isna(x) != True else x)\n",
        "test[\"text\"] = test[\"text\"].apply(lambda x: str.lower(x))"
      ],
      "execution_count": 94,
      "outputs": []
    },
    {
      "cell_type": "code",
      "metadata": {
        "id": "k_KiVBjKvlYl"
      },
      "source": [
        "import re,string\n",
        "\n",
        "def remove_entities(text):\n",
        "    entity_prefixes = ['@','#']\n",
        "    for separator in  string.punctuation:\n",
        "        if separator not in entity_prefixes :\n",
        "            text = text.replace(separator,' ')\n",
        "    words = []\n",
        "    for word in text.split():\n",
        "        word = word.strip()\n",
        "        if word:\n",
        "            if word[0] not in entity_prefixes:\n",
        "                words.append(word)\n",
        "    return ' '.join(words)\n",
        "\n",
        "train[\"keyword\"] = train[\"keyword\"].apply(lambda x: remove_entities(x) if pd.isna(x) != True else x)\n",
        "train[\"location\"] = train[\"location\"].apply(lambda x: remove_entities(x) if pd.isna(x) != True else x)\n",
        "train[\"text\"] = train[\"text\"].apply(lambda x: remove_entities(x))\n",
        "\n",
        "test[\"keyword\"] = test[\"keyword\"].apply(lambda x: remove_entities(x) if pd.isna(x) != True else x)\n",
        "test[\"location\"] = test[\"location\"].apply(lambda x: remove_entities(x) if pd.isna(x) != True else x)\n",
        "test[\"text\"] = test[\"text\"].apply(lambda x: remove_entities(x))"
      ],
      "execution_count": 95,
      "outputs": []
    },
    {
      "cell_type": "code",
      "metadata": {
        "id": "SryRKoLGSdFI"
      },
      "source": [
        "# remove URL links\n",
        "train[\"keyword\"] = train[\"keyword\"].apply(lambda x: re.sub(r\"(?:\\@|http?\\://|https?\\://|www)\\S+\",' ', x) if pd.isna(x) != True else x)\n",
        "train[\"location\"] = train[\"location\"].apply(lambda x: re.sub(r\"(?:\\@|http?\\://|https?\\://|www)\\S+\",' ', x) if pd.isna(x) != True else x)\n",
        "train[\"text\"] = train[\"text\"].apply(lambda x: re.sub(r\"(?:\\@|http?\\://|https?\\://|www)\\S+\",' ', x))\n",
        "\n",
        "test[\"keyword\"] = test[\"keyword\"].apply(lambda x: re.sub(r\"(?:\\@|http?\\://|https?\\://|www)\\S+\",' ', x) if pd.isna(x) != True else x)\n",
        "test[\"location\"] = test[\"location\"].apply(lambda x: re.sub(r\"(?:\\@|http?\\://|https?\\://|www)\\S+\",' ', x) if pd.isna(x) != True else x)\n",
        "test[\"text\"] = test[\"text\"].apply(lambda x: re.sub(r\"(?:\\@|http?\\://|https?\\://|www)\\S+\",' ', x))"
      ],
      "execution_count": 96,
      "outputs": []
    },
    {
      "cell_type": "code",
      "metadata": {
        "id": "NyKbQdA8SinT"
      },
      "source": [
        "# remove punctuation \n",
        "train[\"keyword\"] = train[\"keyword\"].apply(lambda x: re.sub(r'[^\\w\\s]',' ', x) if pd.isna(x) != True else x)\n",
        "train[\"location\"] = train[\"location\"].apply(lambda x: re.sub(r'[^\\w\\s]',' ', x) if pd.isna(x) != True else x)\n",
        "train[\"text\"] = train[\"text\"].apply(lambda x: re.sub(r'[^\\w\\s]',' ', x))\n",
        "\n",
        "test[\"keyword\"] = test[\"keyword\"].apply(lambda x: re.sub(r'[^\\w\\s]',' ', x) if pd.isna(x) != True else x)\n",
        "test[\"location\"] = test[\"location\"].apply(lambda x: re.sub(r'[^\\w\\s]',' ', x) if pd.isna(x) != True else x)\n",
        "test[\"text\"] = test[\"text\"].apply(lambda x: re.sub(r'[^\\w\\s]',' ', x))"
      ],
      "execution_count": 97,
      "outputs": []
    },
    {
      "cell_type": "code",
      "metadata": {
        "id": "vF37RlPRm7Jr"
      },
      "source": [
        "from symspellpy import SymSpell, Verbosity\n",
        "\n",
        "sym_spell = SymSpell()\n",
        "\n",
        "dictionary_path = \"./frequency_dictionary_en_82_765.txt.txt\"\n",
        "\n",
        "sym_spell.load_dictionary(dictionary_path, 0, 1)\n",
        "\n",
        "def spelling_correction(sent): \n",
        "  doc_w_correct_spelling = []\n",
        "  for tok in sent.split(\" \"):\n",
        "\n",
        "      x =  sym_spell.lookup(tok, Verbosity.CLOSEST, max_edit_distance=2, include_unknown=True)[0].__str__()\n",
        "      y = x.split(',')[0]\n",
        "      doc_w_correct_spelling.append(y)\n",
        "\n",
        "  return \" \".join(doc_w_correct_spelling)\n",
        "\n",
        "train[\"keyword\"] = train[\"keyword\"].apply(lambda x: spelling_correction(x) if pd.isna(x) != True else x)\n",
        "train[\"location\"] = train[\"location\"].apply(lambda x: spelling_correction(x) if pd.isna(x) != True else x)\n",
        "train[\"text\"] = train[\"text\"].apply(lambda x: spelling_correction(x))\n",
        "\n",
        "test[\"keyword\"] = test[\"keyword\"].apply(lambda x: spelling_correction(x) if pd.isna(x) != True else x)\n",
        "test[\"location\"] = test[\"location\"].apply(lambda x: spelling_correction(x) if pd.isna(x) != True else x)\n",
        "test[\"text\"] = test[\"text\"].apply(lambda x: spelling_correction(x))\n"
      ],
      "execution_count": 98,
      "outputs": []
    },
    {
      "cell_type": "code",
      "metadata": {
        "id": "9vdPoZqRSmVJ"
      },
      "source": [
        "%%capture\n",
        "\n",
        "# download the language model\n",
        "import os\n",
        "os.system('python -m spacy download en')\n",
        "nlp = spacy.load('en')\n",
        "\n",
        "# download pre-trained model for sentence embeddings\n",
        "model = SentenceTransformer('distilbert-base-nli-mean-tokens') \n",
        "\n",
        "def extract_keywords(nlp=nlp, doc=\"\", no_of_keywords=5, model=model):\n",
        "\n",
        "    doc = doc.lower()\n",
        "    doc = re.sub(r'(?:\\@|http?\\://|https?\\://|www)\\S+',' ', doc)\n",
        "    doc = re.sub(r'[^\\w\\s]',' ', doc)\n",
        "    doc = re.sub(' \\d+', ' ', doc)\n",
        "\n",
        "    doc_ = nlp(doc)\n",
        "\n",
        "    # costum list of parts-of-speech (pos) tags we are interested in\n",
        "    pos_tag = ['VERB','NOUN','ADJ','PROPN']\n",
        "    result=[]\n",
        "    \n",
        "    # if the token pos tag matches one of the pos_tag, then add the text form of the token to result list\n",
        "    for token in doc_:\n",
        "        if (token.pos_ in pos_tag):\n",
        "            result.append(token.text)\n",
        "    \n",
        "    doc_embedding = model.encode([doc])\n",
        "    results_embeddings = model.encode(result)\n",
        "    \n",
        "    # calculate the similarity between document and results embeddings \n",
        "    distances = cosine_similarity(doc_embedding, results_embeddings)\n",
        "\n",
        "    # get the top similar keywords\n",
        "    keywords = [result[index] for index in distances.argsort()[0][-no_of_keywords:]]\n",
        "\n",
        "    return keywords\n",
        "\n",
        "# fill the empty entries in the train keyword column \n",
        "for i in range(len(train[\"keyword\"])): \n",
        "    if pd.isnull(train['keyword'].iloc[i]):\n",
        "        try:\n",
        "          train['keyword'].iloc[i] = extract_keywords(nlp=nlp, doc=train.text.iloc[i], no_of_keywords=1, model=model)[0]\n",
        "        except: \n",
        "          train['keyword'].iloc[i] = \"NaN\" # incase of an unexpected error add \"NaN\"\n",
        "\n",
        "# fill the empty entries in the train keyword column \n",
        "for i in range(len(test[\"keyword\"])): \n",
        "    if pd.isnull(test['keyword'].iloc[i]):\n",
        "        try:\n",
        "            test['keyword'].iloc[i] = extract_keywords(nlp=nlp, doc=test.text.iloc[i], no_of_keywords=1, model=model)[0]\n",
        "        except: \n",
        "            test['keyword'].iloc[i] = \"NaN\" # incase of an unexpected error add \"NaN\""
      ],
      "execution_count": 99,
      "outputs": []
    },
    {
      "cell_type": "code",
      "metadata": {
        "id": "pD1VKTHxTosz"
      },
      "source": [
        "%%capture\n",
        "\n",
        "def get_location(nlp=nlp, doc=\"\"): \n",
        "    doc_ = nlp(doc)\n",
        "    \n",
        "    location = \"\"\n",
        "    \n",
        "    # check the entities labels\n",
        "    # if they are Geopolitical Entities (GPE) - i.e. country, city, state or Organizations (ORG)\n",
        "    # append them to the location string\n",
        "    for ent in doc_.ents: \n",
        "        if ent.label_ in [\"GPE\", \"ORG\"]: \n",
        "            location = location + ent.text + \" \" \n",
        "            \n",
        "    return location\n",
        "\n",
        "# fill the empty entries in the train location column \n",
        "for i in range(len(train[\"location\"])): \n",
        "    if pd.isnull(train['location'].iloc[i]):\n",
        "        try:\n",
        "            train['location'].iloc[i] = get_location(nlp=nlp, doc=train.text.iloc[i]) \n",
        "        except: \n",
        "            test['location'].iloc[i] = \"NaN\" # incase of an unexpected error add \"NaN\"\n",
        "\n",
        "# fill the empty entries in the test location column \n",
        "for i in range(len(test[\"location\"])): \n",
        "    if pd.isnull(test['location'].iloc[i]):\n",
        "        try:\n",
        "            test['location'].iloc[i] = get_location(nlp=nlp, doc=test.text.iloc[i])\n",
        "        except: \n",
        "            test['location'].iloc[i] = \"NaN\" # incase of an unexpected error add \"NaN\""
      ],
      "execution_count": 100,
      "outputs": []
    },
    {
      "cell_type": "code",
      "metadata": {
        "id": "ohmEUXBjUdq4"
      },
      "source": [
        "%%capture\n",
        "\n",
        "def lemmatize(sentence):\n",
        "    doc = nlp(sentence) # tokenize the text and produce a Doc Object\n",
        "    lemmas =  [token.lemma_ for token in doc]\n",
        "    return \" \".join(lemmas)\n",
        "\n",
        "train[\"keyword\"] = train[\"keyword\"].apply(lambda x: lemmatize(x) if pd.isna(x) != True else x)\n",
        "train[\"location\"] = train[\"location\"].apply(lambda x: lemmatize(x) if pd.isna(x) != True else x)\n",
        "train[\"text\"] = train[\"text\"].apply(lambda x: lemmatize(x))\n",
        "\n",
        "\n",
        "test[\"keyword\"] = test[\"keyword\"].apply(lambda x: lemmatize(x) if pd.isna(x) != True else x)\n",
        "test[\"location\"] = test[\"location\"].apply(lambda x: lemmatize(x) if pd.isna(x) != True else x)\n",
        "test[\"text\"] = test[\"text\"].apply(lambda x: lemmatize(x))"
      ],
      "execution_count": 101,
      "outputs": []
    },
    {
      "cell_type": "code",
      "metadata": {
        "id": "wmD_pApiKc1q"
      },
      "source": [
        "%%capture\n",
        "\n",
        "def remove_stopwords(sentence): \n",
        "  \n",
        "    doc = nlp(sentence) # tokenize the text and produce a Doc Object\n",
        "    all_stopwords = nlp.Defaults.stop_words\n",
        "    doc_tokens = [token.text for token in doc]\n",
        "    tokens_without_sw = [word for word in doc_tokens if not word in all_stopwords]\n",
        "    return \" \".join(tokens_without_sw)\n",
        "\n",
        "train[\"keyword\"] = train[\"keyword\"].apply(lambda x: remove_stopwords(x) if pd.isna(x) != True else x)\n",
        "train[\"location\"] = train[\"location\"].apply(lambda x: remove_stopwords(x) if pd.isna(x) != True else x)\n",
        "train[\"text\"] = train[\"text\"].apply(lambda x: remove_stopwords(x))\n",
        "\n",
        "\n",
        "test[\"keyword\"] = test[\"keyword\"].apply(lambda x: remove_stopwords(x) if pd.isna(x) != True else x)\n",
        "test[\"location\"] = test[\"location\"].apply(lambda x: remove_stopwords(x) if pd.isna(x) != True else x)\n",
        "test[\"text\"] = test[\"text\"].apply(lambda x: remove_stopwords(x))"
      ],
      "execution_count": 102,
      "outputs": []
    },
    {
      "cell_type": "code",
      "metadata": {
        "id": "bJ5imU0AbXHe"
      },
      "source": [
        "# convert to lowercase \n",
        "train[\"keyword\"] = train[\"keyword\"].apply(lambda x: str.lower(x) if pd.isna(x) != True else x)\n",
        "train[\"location\"] = train[\"location\"].apply(lambda x: str.lower(x) if pd.isna(x) != True else x)\n",
        "train[\"text\"] = train[\"text\"].apply(lambda x: str.lower(x))\n",
        "\n",
        "test[\"keyword\"] = test[\"keyword\"].apply(lambda x: str.lower(x) if pd.isna(x) != True else x)\n",
        "test[\"location\"] = test[\"location\"].apply(lambda x: str.lower(x) if pd.isna(x) != True else x)\n",
        "test[\"text\"] = test[\"text\"].apply(lambda x: str.lower(x))\n",
        "# remove tags\n",
        "train[\"keyword\"] = train[\"keyword\"].apply(lambda x: re.sub(r\"(?:\\@|http?\\://|https?\\://|www)\\S+\",' ', x) if pd.isna(x) != True else x)\n",
        "train[\"location\"] = train[\"location\"].apply(lambda x: re.sub(r\"(?:\\@|http?\\://|https?\\://|www)\\S+\",' ', x) if pd.isna(x) != True else x)\n",
        "train[\"text\"] = train[\"text\"].apply(lambda x: re.sub(r\"(?:\\@|http?\\://|https?\\://|www)\\S+\",' ', x))\n",
        "\n",
        "test[\"keyword\"] = test[\"keyword\"].apply(lambda x: re.sub(r\"(?:\\@|http?\\://|https?\\://|www)\\S+\",' ', x) if pd.isna(x) != True else x)\n",
        "test[\"location\"] = test[\"location\"].apply(lambda x: re.sub(r\"(?:\\@|http?\\://|https?\\://|www)\\S+\",' ', x) if pd.isna(x) != True else x)\n",
        "test[\"text\"] = test[\"text\"].apply(lambda x: re.sub(r\"(?:\\@|http?\\://|https?\\://|www)\\S+\",' ', x))\n",
        "# remove punctuation \n",
        "train[\"keyword\"] = train[\"keyword\"].apply(lambda x: re.sub(r'[^\\w\\s]',' ', x) if pd.isna(x) != True else x)\n",
        "train[\"location\"] = train[\"location\"].apply(lambda x: re.sub(r'[^\\w\\s]',' ', x) if pd.isna(x) != True else x)\n",
        "train[\"text\"] = train[\"text\"].apply(lambda x: re.sub(r'[^\\w\\s]',' ', x))\n",
        "\n",
        "test[\"keyword\"] = test[\"keyword\"].apply(lambda x: re.sub(r'[^\\w\\s]',' ', x) if pd.isna(x) != True else x)\n",
        "test[\"location\"] = test[\"location\"].apply(lambda x: re.sub(r'[^\\w\\s]',' ', x) if pd.isna(x) != True else x)\n",
        "test[\"text\"] = test[\"text\"].apply(lambda x: re.sub(r'[^\\w\\s]',' ', x) if pd.isna(x) != True else x)"
      ],
      "execution_count": 103,
      "outputs": []
    },
    {
      "cell_type": "code",
      "metadata": {
        "id": "J3-6XdN2OoO3"
      },
      "source": [
        "import tensorflow_hub as hub\n",
        "\n",
        "model = \"https://tfhub.dev/google/nnlm-en-dim50/2\"\n",
        "embed = hub.load(model)"
      ],
      "execution_count": 104,
      "outputs": []
    },
    {
      "cell_type": "code",
      "metadata": {
        "id": "LOFNMqnvh8m6"
      },
      "source": [
        "from sklearn.utils import shuffle\n",
        "\n",
        "train = shuffle(train, random_state=42).reset_index(drop=True) # shuffle the train data\n",
        "y = np.array(train[\"target\"].tolist()) # convert the target column into a numpy array"
      ],
      "execution_count": 105,
      "outputs": []
    },
    {
      "cell_type": "code",
      "metadata": {
        "id": "dHZoRbBuaGkW"
      },
      "source": [
        "key_embed = embed(train.keyword.to_list()) # keyword embeddings\n",
        "loc_embed = embed(train.location.to_list()) # location embeddings\n",
        "text_embed = embed(train.text.to_list()) # text embeddings "
      ],
      "execution_count": 106,
      "outputs": []
    },
    {
      "cell_type": "code",
      "metadata": {
        "id": "t90Zg8EFcn19",
        "colab": {
          "base_uri": "https://localhost:8080/"
        },
        "outputId": "b22c6c21-23f4-4799-c18b-791a250f8aa5"
      },
      "source": [
        "from tensorflow.keras.layers import Input, Dense, Flatten, concatenate, Dropout\n",
        "from tensorflow.keras import Model\n",
        "\n",
        "keyword_input = Input(shape=(key_embed.shape[1],))\n",
        "location_input = Input(shape=(loc_embed.shape[1],))\n",
        "text_input = Input(shape=(text_embed.shape[1],))\n",
        "\n",
        "# create keyword model\n",
        "key_model = Flatten()(keyword_input)\n",
        "key_model = Dense(1024, activation='relu')(key_model)\n",
        "key_model = Dropout(0.5)(key_model)\n",
        "\n",
        "# create location model\n",
        "loc_model = Flatten()(location_input)\n",
        "loc_model = Dense(1024, activation='relu')(loc_model)\n",
        "loc_model = Dropout(0.5)(loc_model)\n",
        "\n",
        "# create text model\n",
        "text_model = Flatten()(text_input)\n",
        "text_model = Dense(1024, activation='relu')(text_model)\n",
        "text_model = Dropout(0.5)(text_model)\n",
        "\n",
        "# concatenate the three models to create the final model\n",
        "merged = concatenate([key_model,\n",
        "                        loc_model,\n",
        "                            text_model], axis=1)\n",
        "\n",
        "merged = Dense(1024, activation='relu')(merged)\n",
        "merged = Dropout(0.5)(merged)\n",
        "final = Dense(1, activation = 'sigmoid')(merged)\n",
        "\n",
        "final = Model(inputs = [keyword_input, location_input, text_input], outputs=final)\n",
        "\n",
        "lr = 0.1 # learning rate \n",
        "epochs = 100 # number of epochs\n",
        "opt = tf.keras.optimizers.SGD(lr = lr, momentum = 0.8, decay = lr/epochs) # optimizer\n",
        "\n",
        "final.compile(loss='binary_crossentropy', optimizer=opt, metrics=['accuracy'])\n",
        "\n",
        "final.summary()"
      ],
      "execution_count": 107,
      "outputs": [
        {
          "output_type": "stream",
          "text": [
            "Model: \"model_2\"\n",
            "__________________________________________________________________________________________________\n",
            "Layer (type)                    Output Shape         Param #     Connected to                     \n",
            "==================================================================================================\n",
            "input_7 (InputLayer)            [(None, 50)]         0                                            \n",
            "__________________________________________________________________________________________________\n",
            "input_8 (InputLayer)            [(None, 50)]         0                                            \n",
            "__________________________________________________________________________________________________\n",
            "input_9 (InputLayer)            [(None, 50)]         0                                            \n",
            "__________________________________________________________________________________________________\n",
            "flatten_6 (Flatten)             (None, 50)           0           input_7[0][0]                    \n",
            "__________________________________________________________________________________________________\n",
            "flatten_7 (Flatten)             (None, 50)           0           input_8[0][0]                    \n",
            "__________________________________________________________________________________________________\n",
            "flatten_8 (Flatten)             (None, 50)           0           input_9[0][0]                    \n",
            "__________________________________________________________________________________________________\n",
            "dense_10 (Dense)                (None, 1024)         52224       flatten_6[0][0]                  \n",
            "__________________________________________________________________________________________________\n",
            "dense_11 (Dense)                (None, 1024)         52224       flatten_7[0][0]                  \n",
            "__________________________________________________________________________________________________\n",
            "dense_12 (Dense)                (None, 1024)         52224       flatten_8[0][0]                  \n",
            "__________________________________________________________________________________________________\n",
            "dropout_8 (Dropout)             (None, 1024)         0           dense_10[0][0]                   \n",
            "__________________________________________________________________________________________________\n",
            "dropout_9 (Dropout)             (None, 1024)         0           dense_11[0][0]                   \n",
            "__________________________________________________________________________________________________\n",
            "dropout_10 (Dropout)            (None, 1024)         0           dense_12[0][0]                   \n",
            "__________________________________________________________________________________________________\n",
            "concatenate_2 (Concatenate)     (None, 3072)         0           dropout_8[0][0]                  \n",
            "                                                                 dropout_9[0][0]                  \n",
            "                                                                 dropout_10[0][0]                 \n",
            "__________________________________________________________________________________________________\n",
            "dense_13 (Dense)                (None, 1024)         3146752     concatenate_2[0][0]              \n",
            "__________________________________________________________________________________________________\n",
            "dropout_11 (Dropout)            (None, 1024)         0           dense_13[0][0]                   \n",
            "__________________________________________________________________________________________________\n",
            "dense_14 (Dense)                (None, 1)            1025        dropout_11[0][0]                 \n",
            "==================================================================================================\n",
            "Total params: 3,304,449\n",
            "Trainable params: 3,304,449\n",
            "Non-trainable params: 0\n",
            "__________________________________________________________________________________________________\n"
          ],
          "name": "stdout"
        },
        {
          "output_type": "stream",
          "text": [
            "/usr/local/lib/python3.7/dist-packages/tensorflow/python/keras/optimizer_v2/optimizer_v2.py:375: UserWarning: The `lr` argument is deprecated, use `learning_rate` instead.\n",
            "  \"The `lr` argument is deprecated, use `learning_rate` instead.\")\n"
          ],
          "name": "stderr"
        }
      ]
    },
    {
      "cell_type": "code",
      "metadata": {
        "id": "nngePkLcnkiL",
        "colab": {
          "base_uri": "https://localhost:8080/"
        },
        "outputId": "34f2d952-7eeb-4ce9-9de5-c49e3703669b"
      },
      "source": [
        "lr = 0.1 # learning rate \n",
        "opt = tf.keras.optimizers.SGD(lr = lr, momentum = 0.8, decay = lr/epochs) # optimizer\n",
        "epochs = 100 # number of epochs\n",
        "\n",
        "final.compile(loss='binary_crossentropy', optimizer=opt, metrics=['accuracy'])\n",
        "\n",
        "earlystop = tf.keras.callbacks.EarlyStopping(\n",
        "  monitor='val_loss', mode = 'min', patience=10, verbose = 1\n",
        ")\n",
        "\n",
        "history = final.fit(\n",
        "            x = [key_embed, loc_embed, text_embed],\n",
        "            y = y, \n",
        "            batch_size = 32, \n",
        "            epochs = epochs, \n",
        "            validation_split = 0.1,\n",
        "            callbacks=[earlystop]\n",
        ")\n"
      ],
      "execution_count": 108,
      "outputs": [
        {
          "output_type": "stream",
          "text": [
            "/usr/local/lib/python3.7/dist-packages/tensorflow/python/keras/optimizer_v2/optimizer_v2.py:375: UserWarning: The `lr` argument is deprecated, use `learning_rate` instead.\n",
            "  \"The `lr` argument is deprecated, use `learning_rate` instead.\")\n"
          ],
          "name": "stderr"
        },
        {
          "output_type": "stream",
          "text": [
            "Epoch 1/100\n",
            "215/215 [==============================] - 9s 38ms/step - loss: 0.5479 - accuracy: 0.7276 - val_loss: 0.5255 - val_accuracy: 0.7651\n",
            "Epoch 2/100\n",
            "215/215 [==============================] - 8s 37ms/step - loss: 0.4998 - accuracy: 0.7675 - val_loss: 0.5110 - val_accuracy: 0.7822\n",
            "Epoch 3/100\n",
            "215/215 [==============================] - 8s 37ms/step - loss: 0.4828 - accuracy: 0.7783 - val_loss: 0.5120 - val_accuracy: 0.7769\n",
            "Epoch 4/100\n",
            "215/215 [==============================] - 8s 37ms/step - loss: 0.4719 - accuracy: 0.7881 - val_loss: 0.5033 - val_accuracy: 0.7900\n",
            "Epoch 5/100\n",
            "215/215 [==============================] - 8s 38ms/step - loss: 0.4629 - accuracy: 0.7902 - val_loss: 0.4939 - val_accuracy: 0.7874\n",
            "Epoch 6/100\n",
            "215/215 [==============================] - 8s 38ms/step - loss: 0.4528 - accuracy: 0.7926 - val_loss: 0.5115 - val_accuracy: 0.7861\n",
            "Epoch 7/100\n",
            "215/215 [==============================] - 8s 37ms/step - loss: 0.4425 - accuracy: 0.8009 - val_loss: 0.4891 - val_accuracy: 0.8058\n",
            "Epoch 8/100\n",
            "215/215 [==============================] - 8s 37ms/step - loss: 0.4396 - accuracy: 0.8009 - val_loss: 0.4871 - val_accuracy: 0.8018\n",
            "Epoch 9/100\n",
            "215/215 [==============================] - 8s 37ms/step - loss: 0.4308 - accuracy: 0.8104 - val_loss: 0.4849 - val_accuracy: 0.7979\n",
            "Epoch 10/100\n",
            "215/215 [==============================] - 8s 37ms/step - loss: 0.4227 - accuracy: 0.8130 - val_loss: 0.4997 - val_accuracy: 0.7795\n",
            "Epoch 11/100\n",
            "215/215 [==============================] - 8s 37ms/step - loss: 0.4141 - accuracy: 0.8167 - val_loss: 0.4827 - val_accuracy: 0.7953\n",
            "Epoch 12/100\n",
            "215/215 [==============================] - 8s 38ms/step - loss: 0.4138 - accuracy: 0.8168 - val_loss: 0.4829 - val_accuracy: 0.7966\n",
            "Epoch 13/100\n",
            "215/215 [==============================] - 8s 37ms/step - loss: 0.4056 - accuracy: 0.8174 - val_loss: 0.4679 - val_accuracy: 0.8031\n",
            "Epoch 14/100\n",
            "215/215 [==============================] - 8s 37ms/step - loss: 0.4024 - accuracy: 0.8190 - val_loss: 0.4830 - val_accuracy: 0.7953\n",
            "Epoch 15/100\n",
            "215/215 [==============================] - 8s 37ms/step - loss: 0.3916 - accuracy: 0.8289 - val_loss: 0.4854 - val_accuracy: 0.7940\n",
            "Epoch 16/100\n",
            "215/215 [==============================] - 8s 38ms/step - loss: 0.3918 - accuracy: 0.8292 - val_loss: 0.4728 - val_accuracy: 0.8058\n",
            "Epoch 17/100\n",
            "215/215 [==============================] - 8s 37ms/step - loss: 0.3828 - accuracy: 0.8333 - val_loss: 0.4824 - val_accuracy: 0.7940\n",
            "Epoch 18/100\n",
            "215/215 [==============================] - 8s 37ms/step - loss: 0.3790 - accuracy: 0.8352 - val_loss: 0.4878 - val_accuracy: 0.8005\n",
            "Epoch 19/100\n",
            "215/215 [==============================] - 8s 37ms/step - loss: 0.3770 - accuracy: 0.8397 - val_loss: 0.4760 - val_accuracy: 0.8005\n",
            "Epoch 20/100\n",
            "215/215 [==============================] - 8s 38ms/step - loss: 0.3693 - accuracy: 0.8409 - val_loss: 0.4749 - val_accuracy: 0.8018\n",
            "Epoch 21/100\n",
            "215/215 [==============================] - 8s 38ms/step - loss: 0.3677 - accuracy: 0.8408 - val_loss: 0.4809 - val_accuracy: 0.7822\n",
            "Epoch 22/100\n",
            "215/215 [==============================] - 8s 37ms/step - loss: 0.3596 - accuracy: 0.8432 - val_loss: 0.4774 - val_accuracy: 0.7927\n",
            "Epoch 23/100\n",
            "215/215 [==============================] - 8s 38ms/step - loss: 0.3560 - accuracy: 0.8441 - val_loss: 0.4816 - val_accuracy: 0.7979\n",
            "Epoch 00023: early stopping\n"
          ],
          "name": "stdout"
        }
      ]
    },
    {
      "cell_type": "code",
      "metadata": {
        "id": "5a8fO21hOHZe",
        "colab": {
          "base_uri": "https://localhost:8080/",
          "height": 545
        },
        "outputId": "54a676b7-c8ea-4e1e-aeda-617df09627f6"
      },
      "source": [
        "import matplotlib.pyplot as plt\n",
        "\n",
        "acc=history.history[\"accuracy\"]\n",
        "loss=history.history[\"loss\"]\n",
        "\n",
        "val_acc=history.history[\"val_accuracy\"]\n",
        "val_loss=history.history[\"val_loss\"]\n",
        "\n",
        "epochs = range(len(acc))\n",
        "\n",
        "plt.figure()\n",
        "\n",
        "plt.plot(epochs, acc, label=\"training accuracy\")\n",
        "plt.plot(epochs, val_acc, label=\"validation accuracy\")\n",
        "plt.title(\"training and validation accuracy\")\n",
        "plt.legend()\n",
        "\n",
        "plt.figure()\n",
        "\n",
        "plt.plot(epochs, loss, label=\"training loss\")\n",
        "plt.plot(epochs, val_loss, label=\"validation loss\")\n",
        "plt.title(\"training and validation loss\")\n",
        "plt.legend()\n",
        "\n",
        "plt.show()"
      ],
      "execution_count": 109,
      "outputs": [
        {
          "output_type": "display_data",
          "data": {
            "image/png": "[encoded data removed]",
            "text/plain": [
              "<Figure size 432x288 with 1 Axes>"
            ]
          },
          "metadata": {
            "tags": [],
            "needs_background": "light"
          }
        },
        {
          "output_type": "display_data",
          "data": {
            "image/png": "[encoded data removed]",
            "text/plain": [
              "<Figure size 432x288 with 1 Axes>"
            ]
          },
          "metadata": {
            "tags": [],
            "needs_background": "light"
          }
        }
      ]
    },
    {
      "cell_type": "code",
      "metadata": {
        "id": "J7oWANtiV1qK"
      },
      "source": [
        "test_key_embed = embed(test.keyword.to_list()) # keyword embeddings\n",
        "test_loc_embed = embed(test.location.to_list()) # location embeddings\n",
        "test_text_embed = embed(test.text.to_list()) # text embeddings "
      ],
      "execution_count": 110,
      "outputs": []
    },
    {
      "cell_type": "code",
      "metadata": {
        "id": "ukotRMKTWnOV"
      },
      "source": [
        "results = final.predict([test_key_embed, test_loc_embed, test_text_embed])\n",
        "results = results.tolist()"
      ],
      "execution_count": 111,
      "outputs": []
    },
    {
      "cell_type": "code",
      "metadata": {
        "id": "4RGAa17vW49z"
      },
      "source": [
        "predictions = [1 if result[0] > 0.5 else 0 for result in results]"
      ],
      "execution_count": 113,
      "outputs": []
    },
    {
      "cell_type": "code",
      "metadata": {
        "id": "HesXxhqpY191"
      },
      "source": [
        "test[\"target_results\"] = predictions"
      ],
      "execution_count": 114,
      "outputs": []
    },
    {
      "cell_type": "code",
      "metadata": {
        "id": "1CndA3wLY4ct",
        "colab": {
          "base_uri": "https://localhost:8080/",
          "height": 359
        },
        "outputId": "bf2be3ac-da14-4a5d-84ba-cc578749b97e"
      },
      "source": [
        "test.sample(10)"
      ],
      "execution_count": 115,
      "outputs": [
        {
          "output_type": "execute_result",
          "data": {
            "text/html": [
              "<div>\n",
              "<style scoped>\n",
              "    .dataframe tbody tr th:only-of-type {\n",
              "        vertical-align: middle;\n",
              "    }\n",
              "\n",
              "    .dataframe tbody tr th {\n",
              "        vertical-align: top;\n",
              "    }\n",
              "\n",
              "    .dataframe thead th {\n",
              "        text-align: right;\n",
              "    }\n",
              "</style>\n",
              "<table border=\"1\" class=\"dataframe\">\n",
              "  <thead>\n",
              "    <tr style=\"text-align: right;\">\n",
              "      <th></th>\n",
              "      <th>id</th>\n",
              "      <th>keyword</th>\n",
              "      <th>location</th>\n",
              "      <th>text</th>\n",
              "      <th>target_results</th>\n",
              "    </tr>\n",
              "  </thead>\n",
              "  <tbody>\n",
              "    <tr>\n",
              "      <th>937</th>\n",
              "      <td>3094</td>\n",
              "      <td>death</td>\n",
              "      <td></td>\n",
              "      <td>bigamist  pron  wife charge death  pron  secon...</td>\n",
              "      <td>1</td>\n",
              "    </tr>\n",
              "    <tr>\n",
              "      <th>1090</th>\n",
              "      <td>3590</td>\n",
              "      <td>desolate</td>\n",
              "      <td>los angeles</td>\n",
              "      <td>recall cp2020 australia blight desolate corporate</td>\n",
              "      <td>0</td>\n",
              "    </tr>\n",
              "    <tr>\n",
              "      <th>2730</th>\n",
              "      <td>9091</td>\n",
              "      <td>structural failure</td>\n",
              "      <td>swaggdad rock</td>\n",
              "      <td>different material etc close building stay int...</td>\n",
              "      <td>0</td>\n",
              "    </tr>\n",
              "    <tr>\n",
              "      <th>2619</th>\n",
              "      <td>8764</td>\n",
              "      <td>siren</td>\n",
              "      <td>lagos</td>\n",
              "      <td>siren good wish boo</td>\n",
              "      <td>0</td>\n",
              "    </tr>\n",
              "    <tr>\n",
              "      <th>1738</th>\n",
              "      <td>5862</td>\n",
              "      <td>hailstorm</td>\n",
              "      <td>boston</td>\n",
              "      <td>jplocalfirst  pron  eliotschool yesterday wow ...</td>\n",
              "      <td>0</td>\n",
              "    </tr>\n",
              "    <tr>\n",
              "      <th>3216</th>\n",
              "      <td>10683</td>\n",
              "      <td>wound</td>\n",
              "      <td>worldwide</td>\n",
              "      <td>pron  wound easily turn  pron  people  pron  ...</td>\n",
              "      <td>0</td>\n",
              "    </tr>\n",
              "    <tr>\n",
              "      <th>1527</th>\n",
              "      <td>5086</td>\n",
              "      <td>famine</td>\n",
              "      <td>brooklyn new york</td>\n",
              "      <td>shameful tragic help co 5p1e40qkgv</td>\n",
              "      <td>1</td>\n",
              "    </tr>\n",
              "    <tr>\n",
              "      <th>214</th>\n",
              "      <td>696</td>\n",
              "      <td>attack</td>\n",
              "      <td>new delhi india</td>\n",
              "      <td>cop injure gunfight militant attack udhampur p...</td>\n",
              "      <td>1</td>\n",
              "    </tr>\n",
              "    <tr>\n",
              "      <th>542</th>\n",
              "      <td>1778</td>\n",
              "      <td>building fire</td>\n",
              "      <td>mighty tempe arizona</td>\n",
              "      <td>failure  pron  exist  pron  change direction a...</td>\n",
              "      <td>1</td>\n",
              "    </tr>\n",
              "    <tr>\n",
              "      <th>2288</th>\n",
              "      <td>7646</td>\n",
              "      <td>panic</td>\n",
              "      <td>sad</td>\n",
              "      <td>panic sublime rome</td>\n",
              "      <td>0</td>\n",
              "    </tr>\n",
              "  </tbody>\n",
              "</table>\n",
              "</div>"
            ],
            "text/plain": [
              "         id  ... target_results\n",
              "937    3094  ...              1\n",
              "1090   3590  ...              0\n",
              "2730   9091  ...              0\n",
              "2619   8764  ...              0\n",
              "1738   5862  ...              0\n",
              "3216  10683  ...              0\n",
              "1527   5086  ...              1\n",
              "214     696  ...              1\n",
              "542    1778  ...              1\n",
              "2288   7646  ...              0\n",
              "\n",
              "[10 rows x 5 columns]"
            ]
          },
          "metadata": {
            "tags": []
          },
          "execution_count": 115
        }
      ]
    }
  ]
}